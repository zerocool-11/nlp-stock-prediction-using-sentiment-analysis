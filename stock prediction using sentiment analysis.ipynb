{
 "cells": [
  {
   "cell_type": "code",
   "execution_count": 1,
   "id": "brief-employer",
   "metadata": {},
   "outputs": [],
   "source": [
    "import sagemaker\n",
    "import boto3\n",
    "from sagemaker.amazon.amazon_estimator import get_image_uri \n",
    "from sagemaker.session import s3_input, Session"
   ]
  },
  {
   "cell_type": "code",
   "execution_count": 2,
   "id": "fossil-great",
   "metadata": {},
   "outputs": [
    {
     "name": "stdout",
     "output_type": "stream",
     "text": [
      "ap-south-1\n"
     ]
    }
   ],
   "source": [
    "bucket_name = 'nlp-spam' # <--- CHANGE THIS VARIABLE TO A UNIQUE NAME FOR YOUR BUCKET\n",
    "my_region = boto3.session.Session().region_name # set the region of the instance\n",
    "print(my_region)\n"
   ]
  },
  {
   "cell_type": "code",
   "execution_count": 3,
   "id": "bottom-representative",
   "metadata": {},
   "outputs": [
    {
     "name": "stdout",
     "output_type": "stream",
     "text": [
      "done bucket has been created\n"
     ]
    }
   ],
   "source": [
    "s3=boto3.resource('s3')\n",
    "try: \n",
    "    if my_region=='us-east-2':\n",
    "        s3.create_bucket(Bucket=bucket_name, CreateBucketConfiguration={'LocationConstraint': 'us-east-2'})\n",
    "    print('done bucket has been created')\n",
    "except Exception as e:\n",
    "    print('exception: ',e)"
   ]
  },
  {
   "cell_type": "code",
   "execution_count": 1,
   "id": "adapted-carbon",
   "metadata": {},
   "outputs": [
    {
     "ename": "NameError",
     "evalue": "name 'bucket_name' is not defined",
     "output_type": "error",
     "traceback": [
      "\u001b[0;31m---------------------------------------------------------------------------\u001b[0m",
      "\u001b[0;31mNameError\u001b[0m                                 Traceback (most recent call last)",
      "\u001b[0;32m<ipython-input-1-c29f5364a038>\u001b[0m in \u001b[0;36m<module>\u001b[0;34m\u001b[0m\n\u001b[1;32m      1\u001b[0m \u001b[0mprefix\u001b[0m \u001b[0;34m=\u001b[0m \u001b[0;34m'stock-prediction'\u001b[0m\u001b[0;34m\u001b[0m\u001b[0;34m\u001b[0m\u001b[0m\n\u001b[0;32m----> 2\u001b[0;31m \u001b[0moutput_path\u001b[0m \u001b[0;34m=\u001b[0m\u001b[0;34m's3://{}/{}/output'\u001b[0m\u001b[0;34m.\u001b[0m\u001b[0mformat\u001b[0m\u001b[0;34m(\u001b[0m\u001b[0mbucket_name\u001b[0m\u001b[0;34m,\u001b[0m \u001b[0mprefix\u001b[0m\u001b[0;34m)\u001b[0m\u001b[0;34m\u001b[0m\u001b[0;34m\u001b[0m\u001b[0m\n\u001b[0m\u001b[1;32m      3\u001b[0m \u001b[0mprint\u001b[0m\u001b[0;34m(\u001b[0m\u001b[0moutput_path\u001b[0m\u001b[0;34m)\u001b[0m\u001b[0;34m\u001b[0m\u001b[0;34m\u001b[0m\u001b[0m\n",
      "\u001b[0;31mNameError\u001b[0m: name 'bucket_name' is not defined"
     ]
    }
   ],
   "source": [
    "prefix = 'stock-prediction'\n",
    "output_path ='s3://{}/{}/output'.format(bucket_name, prefix)\n",
    "print(output_path)"
   ]
  },
  {
   "cell_type": "code",
   "execution_count": 2,
   "id": "sublime-ensemble",
   "metadata": {},
   "outputs": [],
   "source": [
    "import pandas as pd"
   ]
  },
  {
   "cell_type": "code",
   "execution_count": 6,
   "id": "elect-beverage",
   "metadata": {},
   "outputs": [
    {
     "name": "stdout",
     "output_type": "stream",
     "text": [
      "--2021-02-16 08:40:49--  https://raw.githubusercontent.com/krishnaik06/Stock-Sentiment-Analysis/master/Data.csv\n",
      "Resolving raw.githubusercontent.com (raw.githubusercontent.com)... 185.199.111.133, 185.199.108.133, 185.199.109.133, ...\n",
      "Connecting to raw.githubusercontent.com (raw.githubusercontent.com)|185.199.111.133|:443... connected.\n",
      "HTTP request sent, awaiting response... 200 OK\n",
      "Length: 7651016 (7.3M) [text/plain]\n",
      "Saving to: ‘Data.csv.2’\n",
      "\n",
      "Data.csv.2          100%[===================>]   7.30M  --.-KB/s    in 0.07s   \n",
      "\n",
      "2021-02-16 08:40:50 (97.7 MB/s) - ‘Data.csv.2’ saved [7651016/7651016]\n",
      "\n"
     ]
    }
   ],
   "source": [
    "!wget https://raw.githubusercontent.com/krishnaik06/Stock-Sentiment-Analysis/master/Data.csv "
   ]
  },
  {
   "cell_type": "code",
   "execution_count": 3,
   "id": "commercial-gamma",
   "metadata": {},
   "outputs": [
    {
     "name": "stdout",
     "output_type": "stream",
     "text": [
      "Requirement already satisfied: gensim in /home/ec2-user/anaconda3/envs/tensorflow2_p36/lib/python3.6/site-packages (3.8.3)\n",
      "Requirement already satisfied: smart-open>=1.8.1 in /home/ec2-user/anaconda3/envs/tensorflow2_p36/lib/python3.6/site-packages (from gensim) (4.2.0)\n",
      "Requirement already satisfied: numpy>=1.11.3 in /home/ec2-user/anaconda3/envs/tensorflow2_p36/lib/python3.6/site-packages (from gensim) (1.18.5)\n",
      "Requirement already satisfied: six>=1.5.0 in /home/ec2-user/anaconda3/envs/tensorflow2_p36/lib/python3.6/site-packages (from gensim) (1.15.0)\n",
      "Requirement already satisfied: scipy>=0.18.1 in /home/ec2-user/anaconda3/envs/tensorflow2_p36/lib/python3.6/site-packages (from gensim) (1.4.1)\n",
      "\u001b[33mWARNING: You are using pip version 20.3.3; however, version 21.0.1 is available.\n",
      "You should consider upgrading via the '/home/ec2-user/anaconda3/envs/tensorflow2_p36/bin/python -m pip install --upgrade pip' command.\u001b[0m\n"
     ]
    }
   ],
   "source": [
    "!pip install gensim\n",
    "import nltk\n",
    "#nltk.download('all')"
   ]
  },
  {
   "cell_type": "code",
   "execution_count": 4,
   "id": "regulated-overhead",
   "metadata": {},
   "outputs": [],
   "source": [
    "df=pd.read_csv('Data.csv',encoding = \"ISO-8859-1\")"
   ]
  },
  {
   "cell_type": "code",
   "execution_count": 5,
   "id": "biblical-decrease",
   "metadata": {},
   "outputs": [
    {
     "data": {
      "text/plain": [
       "Date     0\n",
       "Label    0\n",
       "Top1     0\n",
       "Top2     0\n",
       "Top3     0\n",
       "Top4     0\n",
       "Top5     0\n",
       "Top6     0\n",
       "Top7     0\n",
       "Top8     0\n",
       "Top9     0\n",
       "Top10    0\n",
       "Top11    0\n",
       "Top12    0\n",
       "Top13    0\n",
       "Top14    0\n",
       "Top15    0\n",
       "Top16    0\n",
       "Top17    0\n",
       "Top18    0\n",
       "Top19    0\n",
       "Top20    0\n",
       "Top21    0\n",
       "Top22    0\n",
       "Top23    1\n",
       "Top24    3\n",
       "Top25    3\n",
       "dtype: int64"
      ]
     },
     "execution_count": 5,
     "metadata": {},
     "output_type": "execute_result"
    }
   ],
   "source": [
    "df.isnull().sum()"
   ]
  },
  {
   "cell_type": "code",
   "execution_count": 6,
   "id": "recreational-christianity",
   "metadata": {},
   "outputs": [],
   "source": [
    "train_df=df[df['Date'] < '20150101']\n",
    "test_df=df[df['Date'] > '20141231']"
   ]
  },
  {
   "cell_type": "code",
   "execution_count": 7,
   "id": "descending-involvement",
   "metadata": {},
   "outputs": [],
   "source": [
    "x=train_df.iloc[:,2:27]\n",
    "x.replace('[^a-zA-z]',' ',regex=True,inplace=True)"
   ]
  },
  {
   "cell_type": "code",
   "execution_count": 8,
   "id": "experimental-wallpaper",
   "metadata": {},
   "outputs": [],
   "source": [
    "x_test=test_df.iloc[:,2:27]\n",
    "x_test.replace('[^a-zA-z]',' ',regex=True,inplace=True)"
   ]
  },
  {
   "cell_type": "code",
   "execution_count": 9,
   "id": "neither-garlic",
   "metadata": {},
   "outputs": [
    {
     "data": {
      "text/plain": [
       "(378, 25)"
      ]
     },
     "execution_count": 9,
     "metadata": {},
     "output_type": "execute_result"
    }
   ],
   "source": [
    "x_test.shape"
   ]
  },
  {
   "cell_type": "code",
   "execution_count": 10,
   "id": "impressed-emerald",
   "metadata": {},
   "outputs": [],
   "source": [
    "ind=[str(i) for i in range(0,25)]"
   ]
  },
  {
   "cell_type": "code",
   "execution_count": 11,
   "id": "close-constitutional",
   "metadata": {},
   "outputs": [],
   "source": [
    "x.columns=ind\n",
    "x_test.columns=ind\n"
   ]
  },
  {
   "cell_type": "code",
   "execution_count": 12,
   "id": "attractive-morgan",
   "metadata": {},
   "outputs": [],
   "source": [
    "for index in ind:\n",
    "    x[index]=x[index].str.lower()\n",
    "    x_test[index]=x_test[index].str.lower()\n",
    "    "
   ]
  },
  {
   "cell_type": "code",
   "execution_count": 13,
   "id": "stuck-revelation",
   "metadata": {},
   "outputs": [
    {
     "data": {
      "text/html": [
       "<div>\n",
       "<style scoped>\n",
       "    .dataframe tbody tr th:only-of-type {\n",
       "        vertical-align: middle;\n",
       "    }\n",
       "\n",
       "    .dataframe tbody tr th {\n",
       "        vertical-align: top;\n",
       "    }\n",
       "\n",
       "    .dataframe thead th {\n",
       "        text-align: right;\n",
       "    }\n",
       "</style>\n",
       "<table border=\"1\" class=\"dataframe\">\n",
       "  <thead>\n",
       "    <tr style=\"text-align: right;\">\n",
       "      <th></th>\n",
       "      <th>0</th>\n",
       "      <th>1</th>\n",
       "      <th>2</th>\n",
       "      <th>3</th>\n",
       "      <th>4</th>\n",
       "      <th>5</th>\n",
       "      <th>6</th>\n",
       "      <th>7</th>\n",
       "      <th>8</th>\n",
       "      <th>9</th>\n",
       "      <th>...</th>\n",
       "      <th>15</th>\n",
       "      <th>16</th>\n",
       "      <th>17</th>\n",
       "      <th>18</th>\n",
       "      <th>19</th>\n",
       "      <th>20</th>\n",
       "      <th>21</th>\n",
       "      <th>22</th>\n",
       "      <th>23</th>\n",
       "      <th>24</th>\n",
       "    </tr>\n",
       "  </thead>\n",
       "  <tbody>\n",
       "    <tr>\n",
       "      <th>0</th>\n",
       "      <td>a  hindrance to operations   extracts from the...</td>\n",
       "      <td>scorecard</td>\n",
       "      <td>hughes  instant hit buoys blues</td>\n",
       "      <td>jack gets his skates on at ice cold alex</td>\n",
       "      <td>chaos as maracana builds up for united</td>\n",
       "      <td>depleted leicester prevail as elliott spoils e...</td>\n",
       "      <td>hungry spurs sense rich pickings</td>\n",
       "      <td>gunners so wide of an easy target</td>\n",
       "      <td>derby raise a glass to strupar s debut double</td>\n",
       "      <td>southgate strikes  leeds pay the penalty</td>\n",
       "      <td>...</td>\n",
       "      <td>flintoff injury piles on woe for england</td>\n",
       "      <td>hunters threaten jospin with new battle of the...</td>\n",
       "      <td>kohl s successor drawn into scandal</td>\n",
       "      <td>the difference between men and women</td>\n",
       "      <td>sara denver  nurse turned solicitor</td>\n",
       "      <td>diana s landmine crusade put tories in a panic</td>\n",
       "      <td>yeltsin s resignation caught opposition flat f...</td>\n",
       "      <td>russian roulette</td>\n",
       "      <td>sold out</td>\n",
       "      <td>recovering a title</td>\n",
       "    </tr>\n",
       "    <tr>\n",
       "      <th>1</th>\n",
       "      <td>scorecard</td>\n",
       "      <td>the best lake scene</td>\n",
       "      <td>leader  german sleaze inquiry</td>\n",
       "      <td>cheerio  boyo</td>\n",
       "      <td>the main recommendations</td>\n",
       "      <td>has cubie killed fees</td>\n",
       "      <td>has cubie killed fees</td>\n",
       "      <td>has cubie killed fees</td>\n",
       "      <td>hopkins  furious  at foster s lack of hannibal...</td>\n",
       "      <td>has cubie killed fees</td>\n",
       "      <td>...</td>\n",
       "      <td>on the critical list</td>\n",
       "      <td>the timing of their lives</td>\n",
       "      <td>dear doctor</td>\n",
       "      <td>irish court halts ira man s extradition to nor...</td>\n",
       "      <td>burundi peace initiative fades after rebels re...</td>\n",
       "      <td>pe points the way forward to the ecb</td>\n",
       "      <td>campaigners keep up pressure on nazi war crime...</td>\n",
       "      <td>jane ratcliffe</td>\n",
       "      <td>yet more things you wouldn t know without the ...</td>\n",
       "      <td>millennium bug fails to bite</td>\n",
       "    </tr>\n",
       "    <tr>\n",
       "      <th>2</th>\n",
       "      <td>coventry caught on counter by flo</td>\n",
       "      <td>united s rivals on the road to rio</td>\n",
       "      <td>thatcher issues defence before trial by video</td>\n",
       "      <td>police help smith lay down the law at everton</td>\n",
       "      <td>tale of trautmann bears two more retellings</td>\n",
       "      <td>england on the rack</td>\n",
       "      <td>pakistan retaliate with call for video of walsh</td>\n",
       "      <td>cullinan continues his cape monopoly</td>\n",
       "      <td>mcgrath puts india out of their misery</td>\n",
       "      <td>blair witch bandwagon rolls on</td>\n",
       "      <td>...</td>\n",
       "      <td>south melbourne  australia</td>\n",
       "      <td>necaxa  mexico</td>\n",
       "      <td>real madrid  spain</td>\n",
       "      <td>raja casablanca  morocco</td>\n",
       "      <td>corinthians  brazil</td>\n",
       "      <td>tony s pet project</td>\n",
       "      <td>al nassr  saudi arabia</td>\n",
       "      <td>ideal holmes show</td>\n",
       "      <td>pinochet leaves hospital after tests</td>\n",
       "      <td>useful links</td>\n",
       "    </tr>\n",
       "    <tr>\n",
       "      <th>3</th>\n",
       "      <td>pilgrim knows how to progress</td>\n",
       "      <td>thatcher facing ban</td>\n",
       "      <td>mcilroy calls for irish fighting spirit</td>\n",
       "      <td>leicester bin stadium blueprint</td>\n",
       "      <td>united braced for mexican wave</td>\n",
       "      <td>auntie back in fashion  even if the dress look...</td>\n",
       "      <td>shoaib appeal goes to the top</td>\n",
       "      <td>hussain hurt by  shambles  but lays blame on e...</td>\n",
       "      <td>england s decade of disasters</td>\n",
       "      <td>revenge is sweet for jubilant cronje</td>\n",
       "      <td>...</td>\n",
       "      <td>putin admits yeltsin quit to give him a head s...</td>\n",
       "      <td>bbc worst hit as digital tv begins to bite</td>\n",
       "      <td>how much can you pay for</td>\n",
       "      <td>christmas glitches</td>\n",
       "      <td>upending a table  chopping a line and scoring ...</td>\n",
       "      <td>scientific evidence  unreliable   defence claims</td>\n",
       "      <td>fusco wins judicial review in extradition case</td>\n",
       "      <td>rebels thwart russian advance</td>\n",
       "      <td>blair orders shake up of failing nhs</td>\n",
       "      <td>lessons of law s hard heart</td>\n",
       "    </tr>\n",
       "    <tr>\n",
       "      <th>4</th>\n",
       "      <td>hitches and horlocks</td>\n",
       "      <td>beckham off but united survive</td>\n",
       "      <td>breast cancer screening</td>\n",
       "      <td>alan parker</td>\n",
       "      <td>guardian readers  are you all whingers</td>\n",
       "      <td>hollywood beyond</td>\n",
       "      <td>ashes and diamonds</td>\n",
       "      <td>whingers   a formidable minority</td>\n",
       "      <td>alan parker   part two</td>\n",
       "      <td>thuggery  toxins and ties</td>\n",
       "      <td>...</td>\n",
       "      <td>most everywhere   udis</td>\n",
       "      <td>most wanted   chloe lunettes</td>\n",
       "      <td>return of the cane  completely off the agenda</td>\n",
       "      <td>from sleepy hollow to greeneland</td>\n",
       "      <td>blunkett outlines vision for over   s</td>\n",
       "      <td>embattled dobson attacks  play now  pay later ...</td>\n",
       "      <td>doom and the dome</td>\n",
       "      <td>what is the north south divide</td>\n",
       "      <td>aitken released from jail</td>\n",
       "      <td>gone aloft</td>\n",
       "    </tr>\n",
       "    <tr>\n",
       "      <th>...</th>\n",
       "      <td>...</td>\n",
       "      <td>...</td>\n",
       "      <td>...</td>\n",
       "      <td>...</td>\n",
       "      <td>...</td>\n",
       "      <td>...</td>\n",
       "      <td>...</td>\n",
       "      <td>...</td>\n",
       "      <td>...</td>\n",
       "      <td>...</td>\n",
       "      <td>...</td>\n",
       "      <td>...</td>\n",
       "      <td>...</td>\n",
       "      <td>...</td>\n",
       "      <td>...</td>\n",
       "      <td>...</td>\n",
       "      <td>...</td>\n",
       "      <td>...</td>\n",
       "      <td>...</td>\n",
       "      <td>...</td>\n",
       "      <td>...</td>\n",
       "    </tr>\n",
       "    <tr>\n",
       "      <th>3970</th>\n",
       "      <td>brazil declares emergency after       babies a...</td>\n",
       "      <td>scientists find big      yr old viking settlem...</td>\n",
       "      <td>paris attacks  belgian police arrest ninth sus...</td>\n",
       "      <td>wiretapping reveals communication between turk...</td>\n",
       "      <td>russia airstrikes  hundreds of syrian civilans...</td>\n",
       "      <td>pakistan changes neutral position on syrian ci...</td>\n",
       "      <td>north korean diplomat arrested in south africa...</td>\n",
       "      <td>german teachers want  mein kampf  on syllabus</td>\n",
       "      <td>north korea slave force earns kim jong un regi...</td>\n",
       "      <td>yemeni forces preparing to attack saudi...</td>\n",
       "      <td>...</td>\n",
       "      <td>report on sexual exploitation and abuse by pea...</td>\n",
       "      <td>baby girl dies after x president s son s staff...</td>\n",
       "      <td>china smog sparks red alerts in    cities</td>\n",
       "      <td>us planned east berlin s  systematic destructi...</td>\n",
       "      <td>qatar world cup      workers  earning as littl...</td>\n",
       "      <td>thai court sentences two to death for killings...</td>\n",
       "      <td>germany pays to halt danish wind power to prot...</td>\n",
       "      <td>egypts president sisi urges islamic scholars t...</td>\n",
       "      <td>russia rejects amnesty internationals report o...</td>\n",
       "      <td>cameron  osborne and murdoch back together at ...</td>\n",
       "    </tr>\n",
       "    <tr>\n",
       "      <th>3971</th>\n",
       "      <td>germany recruits       teachers to teach germa...</td>\n",
       "      <td>almost        people have signed an italian po...</td>\n",
       "      <td>japan apologizes to korea over sexual enslavem...</td>\n",
       "      <td>milan and rome ban cars as pollution rises  mi...</td>\n",
       "      <td>saudi posts record     bn deficit in</td>\n",
       "      <td>the united states  russia  iran  and saudi ara...</td>\n",
       "      <td>vladimir putin has achieved his central goal o...</td>\n",
       "      <td>noted syrian journalist who uncovered isis ale...</td>\n",
       "      <td>criminal gangs are contaminating democracy in ...</td>\n",
       "      <td>isis leader threatens to strike israel</td>\n",
       "      <td>...</td>\n",
       "      <td>saudi arabia plans subsidy cuts as king unveil...</td>\n",
       "      <td>syria anti isis documentary maker  assassinate...</td>\n",
       "      <td>denmark wants geneva convention debate if euro...</td>\n",
       "      <td>david cameron is heckled during visit to flood...</td>\n",
       "      <td>british army is deployed as flooding submerges...</td>\n",
       "      <td>brazils reluctance to accept an israeli ambass...</td>\n",
       "      <td>russian gdp down     percent year on year in n...</td>\n",
       "      <td>syria and iraq  ethnic cleansing by sunni and ...</td>\n",
       "      <td>deadly car bomb explodes at kabul airport</td>\n",
       "      <td>experiment in germany tests the idea of an  em...</td>\n",
       "    </tr>\n",
       "    <tr>\n",
       "      <th>3972</th>\n",
       "      <td>pentagon thwarts obama s effort to close guant...</td>\n",
       "      <td>rare footage of giant squid in japan</td>\n",
       "      <td>muslims tell isis they d rather see star wars ...</td>\n",
       "      <td>syrian journalist who documented isis atrociti...</td>\n",
       "      <td>north korea s second most powerful man sent to...</td>\n",
       "      <td>austria turns away hundreds of migrants for ly...</td>\n",
       "      <td>saudi grand mufti calls isis part of the israe...</td>\n",
       "      <td>what has war yielded  neither land nor heaven...</td>\n",
       "      <td>ancient arch attacked by isis to be rebuilt in...</td>\n",
       "      <td>islamic state theologians have issued an extre...</td>\n",
       "      <td>...</td>\n",
       "      <td>iran hands over stockpile of enriched uranium ...</td>\n",
       "      <td>registrar shuts down all pirate bay domain names</td>\n",
       "      <td>the irish government has taken unprecedented a...</td>\n",
       "      <td>saudi arabia to raise domestic petrol prices b...</td>\n",
       "      <td>saudi arabia hikes petrol prices by     at the...</td>\n",
       "      <td>world health organization declares guinea ebol...</td>\n",
       "      <td>hacker group anonymous is helping the  making ...</td>\n",
       "      <td>russia  has removed uranium from iran</td>\n",
       "      <td>china threatens to shoot down australian aircr...</td>\n",
       "      <td>israel warns brazil to accept its settler amba...</td>\n",
       "    </tr>\n",
       "    <tr>\n",
       "      <th>3973</th>\n",
       "      <td>tech companies face criminal charges if they n...</td>\n",
       "      <td>mexican marijuana farmers see profits tumble a...</td>\n",
       "      <td>a would be suicide bomber and his wife have be...</td>\n",
       "      <td>the rich will get richer while two million mor...</td>\n",
       "      <td>the north pole will have above freezing temper...</td>\n",
       "      <td>south australia   new sexting laws to spare ch...</td>\n",
       "      <td>isis militants burn    media activists to deat...</td>\n",
       "      <td>italy fines apple over misleading tax conduct</td>\n",
       "      <td>body of notorious mexican drug cartel founder ...</td>\n",
       "      <td>morocco to deploy         armed officers to pr...</td>\n",
       "      <td>...</td>\n",
       "      <td>norway to turn back asylum seekers on swedish ...</td>\n",
       "      <td>islamic state suffers double blow as ramadi fa...</td>\n",
       "      <td>journalist reveals erdoan imprisoned him for e...</td>\n",
       "      <td>russian moon base plan falls victim to budget ...</td>\n",
       "      <td>belgium  netherlands to exchange territory  wi...</td>\n",
       "      <td>north korea says top official kim yang gon kil...</td>\n",
       "      <td>putin s son in law boosted by       bln russia...</td>\n",
       "      <td>an orgasm a day could cut prostate cancer risk</td>\n",
       "      <td>germans claim belgian nuclear reactors are  fa...</td>\n",
       "      <td>uk sperm bank doesn t accept donors with dysle...</td>\n",
       "    </tr>\n",
       "    <tr>\n",
       "      <th>3974</th>\n",
       "      <td>microsoft corp said on wednesday it will begin...</td>\n",
       "      <td>greek orthodox church  homosexuals are god s c...</td>\n",
       "      <td>vladmir putin officially dissolves roscosmos  ...</td>\n",
       "      <td>donald trump could be refused entry to the uk ...</td>\n",
       "      <td>saudi arabia says its ready to meet any additi...</td>\n",
       "      <td>new year fireworks and festivities have been c...</td>\n",
       "      <td>new species of human may have shared our caves...</td>\n",
       "      <td>egypt becomes second nation to shut down faceb...</td>\n",
       "      <td>polish government takes control of public medi...</td>\n",
       "      <td>from jan    uk to stop financial aid to india ...</td>\n",
       "      <td>...</td>\n",
       "      <td>ramadi residents fleeing isis   they wanted to...</td>\n",
       "      <td>israeli gov t approves nis    billion plan to ...</td>\n",
       "      <td>russia denies  absurd  claims that air strikes...</td>\n",
       "      <td>web attack knocks bbc websites offline</td>\n",
       "      <td>iran says any u s  sanctions on missiles illegal</td>\n",
       "      <td>maternity benefits  indian government plans to...</td>\n",
       "      <td>rat on a plane  forces air india flight to tu...</td>\n",
       "      <td>philippines to join china backed aiib infrastr...</td>\n",
       "      <td>espn invites five fifa presidential candidates...</td>\n",
       "      <td>hamas to keep palestinians from ringing in new...</td>\n",
       "    </tr>\n",
       "  </tbody>\n",
       "</table>\n",
       "<p>3975 rows × 25 columns</p>\n",
       "</div>"
      ],
      "text/plain": [
       "                                                      0  \\\n",
       "0     a  hindrance to operations   extracts from the...   \n",
       "1                                             scorecard   \n",
       "2                     coventry caught on counter by flo   \n",
       "3                         pilgrim knows how to progress   \n",
       "4                                  hitches and horlocks   \n",
       "...                                                 ...   \n",
       "3970  brazil declares emergency after       babies a...   \n",
       "3971  germany recruits       teachers to teach germa...   \n",
       "3972  pentagon thwarts obama s effort to close guant...   \n",
       "3973  tech companies face criminal charges if they n...   \n",
       "3974  microsoft corp said on wednesday it will begin...   \n",
       "\n",
       "                                                      1  \\\n",
       "0                                             scorecard   \n",
       "1                                   the best lake scene   \n",
       "2                    united s rivals on the road to rio   \n",
       "3                                   thatcher facing ban   \n",
       "4                        beckham off but united survive   \n",
       "...                                                 ...   \n",
       "3970  scientists find big      yr old viking settlem...   \n",
       "3971  almost        people have signed an italian po...   \n",
       "3972               rare footage of giant squid in japan   \n",
       "3973  mexican marijuana farmers see profits tumble a...   \n",
       "3974  greek orthodox church  homosexuals are god s c...   \n",
       "\n",
       "                                                      2  \\\n",
       "0                       hughes  instant hit buoys blues   \n",
       "1                         leader  german sleaze inquiry   \n",
       "2         thatcher issues defence before trial by video   \n",
       "3               mcilroy calls for irish fighting spirit   \n",
       "4                               breast cancer screening   \n",
       "...                                                 ...   \n",
       "3970  paris attacks  belgian police arrest ninth sus...   \n",
       "3971  japan apologizes to korea over sexual enslavem...   \n",
       "3972  muslims tell isis they d rather see star wars ...   \n",
       "3973  a would be suicide bomber and his wife have be...   \n",
       "3974  vladmir putin officially dissolves roscosmos  ...   \n",
       "\n",
       "                                                      3  \\\n",
       "0              jack gets his skates on at ice cold alex   \n",
       "1                                         cheerio  boyo   \n",
       "2         police help smith lay down the law at everton   \n",
       "3                       leicester bin stadium blueprint   \n",
       "4                                           alan parker   \n",
       "...                                                 ...   \n",
       "3970  wiretapping reveals communication between turk...   \n",
       "3971  milan and rome ban cars as pollution rises  mi...   \n",
       "3972  syrian journalist who documented isis atrociti...   \n",
       "3973  the rich will get richer while two million mor...   \n",
       "3974  donald trump could be refused entry to the uk ...   \n",
       "\n",
       "                                                      4  \\\n",
       "0                chaos as maracana builds up for united   \n",
       "1                              the main recommendations   \n",
       "2           tale of trautmann bears two more retellings   \n",
       "3                        united braced for mexican wave   \n",
       "4               guardian readers  are you all whingers    \n",
       "...                                                 ...   \n",
       "3970  russia airstrikes  hundreds of syrian civilans...   \n",
       "3971          saudi posts record     bn deficit in        \n",
       "3972  north korea s second most powerful man sent to...   \n",
       "3973  the north pole will have above freezing temper...   \n",
       "3974  saudi arabia says its ready to meet any additi...   \n",
       "\n",
       "                                                      5  \\\n",
       "0     depleted leicester prevail as elliott spoils e...   \n",
       "1                                has cubie killed fees    \n",
       "2                                   england on the rack   \n",
       "3     auntie back in fashion  even if the dress look...   \n",
       "4                                      hollywood beyond   \n",
       "...                                                 ...   \n",
       "3970  pakistan changes neutral position on syrian ci...   \n",
       "3971  the united states  russia  iran  and saudi ara...   \n",
       "3972  austria turns away hundreds of migrants for ly...   \n",
       "3973  south australia   new sexting laws to spare ch...   \n",
       "3974  new year fireworks and festivities have been c...   \n",
       "\n",
       "                                                      6  \\\n",
       "0                      hungry spurs sense rich pickings   \n",
       "1                                has cubie killed fees    \n",
       "2       pakistan retaliate with call for video of walsh   \n",
       "3                         shoaib appeal goes to the top   \n",
       "4                                    ashes and diamonds   \n",
       "...                                                 ...   \n",
       "3970  north korean diplomat arrested in south africa...   \n",
       "3971  vladimir putin has achieved his central goal o...   \n",
       "3972  saudi grand mufti calls isis part of the israe...   \n",
       "3973  isis militants burn    media activists to deat...   \n",
       "3974  new species of human may have shared our caves...   \n",
       "\n",
       "                                                      7  \\\n",
       "0                     gunners so wide of an easy target   \n",
       "1                                has cubie killed fees    \n",
       "2                  cullinan continues his cape monopoly   \n",
       "3     hussain hurt by  shambles  but lays blame on e...   \n",
       "4                      whingers   a formidable minority   \n",
       "...                                                 ...   \n",
       "3970      german teachers want  mein kampf  on syllabus   \n",
       "3971  noted syrian journalist who uncovered isis ale...   \n",
       "3972   what has war yielded  neither land nor heaven...   \n",
       "3973      italy fines apple over misleading tax conduct   \n",
       "3974  egypt becomes second nation to shut down faceb...   \n",
       "\n",
       "                                                      8  \\\n",
       "0         derby raise a glass to strupar s debut double   \n",
       "1     hopkins  furious  at foster s lack of hannibal...   \n",
       "2                mcgrath puts india out of their misery   \n",
       "3                         england s decade of disasters   \n",
       "4                                alan parker   part two   \n",
       "...                                                 ...   \n",
       "3970  north korea slave force earns kim jong un regi...   \n",
       "3971  criminal gangs are contaminating democracy in ...   \n",
       "3972  ancient arch attacked by isis to be rebuilt in...   \n",
       "3973  body of notorious mexican drug cartel founder ...   \n",
       "3974  polish government takes control of public medi...   \n",
       "\n",
       "                                                      9  ...  \\\n",
       "0              southgate strikes  leeds pay the penalty  ...   \n",
       "1                                has cubie killed fees   ...   \n",
       "2                        blair witch bandwagon rolls on  ...   \n",
       "3                  revenge is sweet for jubilant cronje  ...   \n",
       "4                             thuggery  toxins and ties  ...   \n",
       "...                                                 ...  ...   \n",
       "3970         yemeni forces preparing to attack saudi...  ...   \n",
       "3971             isis leader threatens to strike israel  ...   \n",
       "3972  islamic state theologians have issued an extre...  ...   \n",
       "3973  morocco to deploy         armed officers to pr...  ...   \n",
       "3974  from jan    uk to stop financial aid to india ...  ...   \n",
       "\n",
       "                                                     15  \\\n",
       "0              flintoff injury piles on woe for england   \n",
       "1                                  on the critical list   \n",
       "2                           south melbourne  australia    \n",
       "3     putin admits yeltsin quit to give him a head s...   \n",
       "4                                most everywhere   udis   \n",
       "...                                                 ...   \n",
       "3970  report on sexual exploitation and abuse by pea...   \n",
       "3971  saudi arabia plans subsidy cuts as king unveil...   \n",
       "3972  iran hands over stockpile of enriched uranium ...   \n",
       "3973  norway to turn back asylum seekers on swedish ...   \n",
       "3974  ramadi residents fleeing isis   they wanted to...   \n",
       "\n",
       "                                                     16  \\\n",
       "0     hunters threaten jospin with new battle of the...   \n",
       "1                             the timing of their lives   \n",
       "2                                       necaxa  mexico    \n",
       "3            bbc worst hit as digital tv begins to bite   \n",
       "4                          most wanted   chloe lunettes   \n",
       "...                                                 ...   \n",
       "3970  baby girl dies after x president s son s staff...   \n",
       "3971  syria anti isis documentary maker  assassinate...   \n",
       "3972   registrar shuts down all pirate bay domain names   \n",
       "3973  islamic state suffers double blow as ramadi fa...   \n",
       "3974  israeli gov t approves nis    billion plan to ...   \n",
       "\n",
       "                                                     17  \\\n",
       "0                   kohl s successor drawn into scandal   \n",
       "1                                           dear doctor   \n",
       "2                                   real madrid  spain    \n",
       "3                           how much can you pay for      \n",
       "4        return of the cane  completely off the agenda    \n",
       "...                                                 ...   \n",
       "3970          china smog sparks red alerts in    cities   \n",
       "3971  denmark wants geneva convention debate if euro...   \n",
       "3972  the irish government has taken unprecedented a...   \n",
       "3973  journalist reveals erdoan imprisoned him for e...   \n",
       "3974  russia denies  absurd  claims that air strikes...   \n",
       "\n",
       "                                                     18  \\\n",
       "0                  the difference between men and women   \n",
       "1     irish court halts ira man s extradition to nor...   \n",
       "2                             raja casablanca  morocco    \n",
       "3                                    christmas glitches   \n",
       "4                      from sleepy hollow to greeneland   \n",
       "...                                                 ...   \n",
       "3970  us planned east berlin s  systematic destructi...   \n",
       "3971  david cameron is heckled during visit to flood...   \n",
       "3972  saudi arabia to raise domestic petrol prices b...   \n",
       "3973  russian moon base plan falls victim to budget ...   \n",
       "3974             web attack knocks bbc websites offline   \n",
       "\n",
       "                                                     19  \\\n",
       "0                   sara denver  nurse turned solicitor   \n",
       "1     burundi peace initiative fades after rebels re...   \n",
       "2                                  corinthians  brazil    \n",
       "3     upending a table  chopping a line and scoring ...   \n",
       "4                 blunkett outlines vision for over   s   \n",
       "...                                                 ...   \n",
       "3970  qatar world cup      workers  earning as littl...   \n",
       "3971  british army is deployed as flooding submerges...   \n",
       "3972  saudi arabia hikes petrol prices by     at the...   \n",
       "3973  belgium  netherlands to exchange territory  wi...   \n",
       "3974   iran says any u s  sanctions on missiles illegal   \n",
       "\n",
       "                                                     20  \\\n",
       "0        diana s landmine crusade put tories in a panic   \n",
       "1                  pe points the way forward to the ecb   \n",
       "2                                    tony s pet project   \n",
       "3      scientific evidence  unreliable   defence claims   \n",
       "4     embattled dobson attacks  play now  pay later ...   \n",
       "...                                                 ...   \n",
       "3970  thai court sentences two to death for killings...   \n",
       "3971  brazils reluctance to accept an israeli ambass...   \n",
       "3972  world health organization declares guinea ebol...   \n",
       "3973  north korea says top official kim yang gon kil...   \n",
       "3974  maternity benefits  indian government plans to...   \n",
       "\n",
       "                                                     21  \\\n",
       "0     yeltsin s resignation caught opposition flat f...   \n",
       "1     campaigners keep up pressure on nazi war crime...   \n",
       "2                               al nassr  saudi arabia    \n",
       "3        fusco wins judicial review in extradition case   \n",
       "4                                     doom and the dome   \n",
       "...                                                 ...   \n",
       "3970  germany pays to halt danish wind power to prot...   \n",
       "3971  russian gdp down     percent year on year in n...   \n",
       "3972  hacker group anonymous is helping the  making ...   \n",
       "3973  putin s son in law boosted by       bln russia...   \n",
       "3974   rat on a plane  forces air india flight to tu...   \n",
       "\n",
       "                                                     22  \\\n",
       "0                                      russian roulette   \n",
       "1                                        jane ratcliffe   \n",
       "2                                     ideal holmes show   \n",
       "3                         rebels thwart russian advance   \n",
       "4                       what is the north south divide    \n",
       "...                                                 ...   \n",
       "3970  egypts president sisi urges islamic scholars t...   \n",
       "3971  syria and iraq  ethnic cleansing by sunni and ...   \n",
       "3972             russia  has removed uranium from iran    \n",
       "3973     an orgasm a day could cut prostate cancer risk   \n",
       "3974  philippines to join china backed aiib infrastr...   \n",
       "\n",
       "                                                     23  \\\n",
       "0                                              sold out   \n",
       "1     yet more things you wouldn t know without the ...   \n",
       "2                  pinochet leaves hospital after tests   \n",
       "3                  blair orders shake up of failing nhs   \n",
       "4                             aitken released from jail   \n",
       "...                                                 ...   \n",
       "3970  russia rejects amnesty internationals report o...   \n",
       "3971          deadly car bomb explodes at kabul airport   \n",
       "3972  china threatens to shoot down australian aircr...   \n",
       "3973  germans claim belgian nuclear reactors are  fa...   \n",
       "3974  espn invites five fifa presidential candidates...   \n",
       "\n",
       "                                                     24  \n",
       "0                                    recovering a title  \n",
       "1                          millennium bug fails to bite  \n",
       "2                                          useful links  \n",
       "3                           lessons of law s hard heart  \n",
       "4                                            gone aloft  \n",
       "...                                                 ...  \n",
       "3970  cameron  osborne and murdoch back together at ...  \n",
       "3971  experiment in germany tests the idea of an  em...  \n",
       "3972  israel warns brazil to accept its settler amba...  \n",
       "3973  uk sperm bank doesn t accept donors with dysle...  \n",
       "3974  hamas to keep palestinians from ringing in new...  \n",
       "\n",
       "[3975 rows x 25 columns]"
      ]
     },
     "execution_count": 13,
     "metadata": {},
     "output_type": "execute_result"
    }
   ],
   "source": [
    "x"
   ]
  },
  {
   "cell_type": "code",
   "execution_count": 14,
   "id": "sixth-henry",
   "metadata": {},
   "outputs": [],
   "source": [
    "para=[]\n",
    "for i in range(0,len(x.index)):\n",
    "    para.append(' '.join(str(a) for a in x.iloc[i,0:25]))"
   ]
  },
  {
   "cell_type": "code",
   "execution_count": 15,
   "id": "aging-salon",
   "metadata": {},
   "outputs": [
    {
     "data": {
      "text/plain": [
       "3975"
      ]
     },
     "execution_count": 15,
     "metadata": {},
     "output_type": "execute_result"
    }
   ],
   "source": [
    "len(para)"
   ]
  },
  {
   "cell_type": "code",
   "execution_count": 16,
   "id": "ordinary-convenience",
   "metadata": {},
   "outputs": [],
   "source": [
    "from sklearn.feature_extraction.text import CountVectorizer\n",
    "from sklearn.ensemble import RandomForestClassifier\n",
    "from nltk.stem.porter import PorterStemmer\n",
    "from nltk.stem import WordNetLemmatizer\n",
    "from nltk.corpus import stopwords"
   ]
  },
  {
   "cell_type": "code",
   "execution_count": null,
   "id": "varying-stopping",
   "metadata": {},
   "outputs": [],
   "source": []
  },
  {
   "cell_type": "code",
   "execution_count": null,
   "id": "worth-average",
   "metadata": {
    "scrolled": true
   },
   "outputs": [],
   "source": []
  },
  {
   "cell_type": "code",
   "execution_count": null,
   "id": "engaging-registrar",
   "metadata": {},
   "outputs": [],
   "source": []
  },
  {
   "cell_type": "code",
   "execution_count": null,
   "id": "dietary-iceland",
   "metadata": {
    "scrolled": true
   },
   "outputs": [],
   "source": [
    "\n",
    "    "
   ]
  },
  {
   "cell_type": "code",
   "execution_count": null,
   "id": "animated-vessel",
   "metadata": {},
   "outputs": [],
   "source": []
  },
  {
   "cell_type": "code",
   "execution_count": 18,
   "id": "exotic-telling",
   "metadata": {},
   "outputs": [],
   "source": [
    "wordnet=PorterStemmer()\n",
    "review = [wordnet.stem(word) for word in para if not word in set(stopwords.words('english'))]"
   ]
  },
  {
   "cell_type": "code",
   "execution_count": 19,
   "id": "coastal-stone",
   "metadata": {},
   "outputs": [
    {
     "data": {
      "text/plain": [
       "3975"
      ]
     },
     "execution_count": 19,
     "metadata": {},
     "output_type": "execute_result"
    }
   ],
   "source": [
    "len(review)"
   ]
  },
  {
   "cell_type": "code",
   "execution_count": 20,
   "id": "global-macro",
   "metadata": {},
   "outputs": [],
   "source": [
    "\n",
    "from sklearn.feature_extraction.text import TfidfVectorizer\n",
    "cv = TfidfVectorizer()\n",
    "X = cv.fit_transform(review).toarray()"
   ]
  },
  {
   "cell_type": "code",
   "execution_count": 21,
   "id": "tough-likelihood",
   "metadata": {
    "scrolled": true
   },
   "outputs": [
    {
     "data": {
      "text/plain": [
       "(3975, 46506)"
      ]
     },
     "execution_count": 21,
     "metadata": {},
     "output_type": "execute_result"
    }
   ],
   "source": [
    "X.shape"
   ]
  },
  {
   "cell_type": "code",
   "execution_count": 32,
   "id": "known-greeting",
   "metadata": {},
   "outputs": [
    {
     "data": {
      "text/plain": [
       "(378, 46506)"
      ]
     },
     "execution_count": 32,
     "metadata": {},
     "output_type": "execute_result"
    }
   ],
   "source": [
    "X_test.shape"
   ]
  },
  {
   "cell_type": "code",
   "execution_count": null,
   "id": "european-samba",
   "metadata": {},
   "outputs": [],
   "source": []
  },
  {
   "cell_type": "code",
   "execution_count": null,
   "id": "technological-treasury",
   "metadata": {},
   "outputs": [],
   "source": []
  },
  {
   "cell_type": "code",
   "execution_count": 23,
   "id": "political-combine",
   "metadata": {},
   "outputs": [
    {
     "data": {
      "text/plain": [
       "(3975, 46506)"
      ]
     },
     "execution_count": 23,
     "metadata": {},
     "output_type": "execute_result"
    }
   ],
   "source": [
    "X.shape"
   ]
  },
  {
   "cell_type": "code",
   "execution_count": 24,
   "id": "dynamic-northwest",
   "metadata": {},
   "outputs": [
    {
     "data": {
      "text/plain": [
       "(3975, 46506)"
      ]
     },
     "execution_count": 24,
     "metadata": {},
     "output_type": "execute_result"
    }
   ],
   "source": [
    "X.shape"
   ]
  },
  {
   "cell_type": "code",
   "execution_count": 25,
   "id": "reflected-metallic",
   "metadata": {},
   "outputs": [
    {
     "data": {
      "text/plain": [
       "RandomForestClassifier(bootstrap=True, ccp_alpha=0.0, class_weight=None,\n",
       "                       criterion='entropy', max_depth=None, max_features='auto',\n",
       "                       max_leaf_nodes=None, max_samples=None,\n",
       "                       min_impurity_decrease=0.0, min_impurity_split=None,\n",
       "                       min_samples_leaf=1, min_samples_split=2,\n",
       "                       min_weight_fraction_leaf=0.0, n_estimators=200,\n",
       "                       n_jobs=None, oob_score=False, random_state=None,\n",
       "                       verbose=0, warm_start=False)"
      ]
     },
     "execution_count": 25,
     "metadata": {},
     "output_type": "execute_result"
    }
   ],
   "source": [
    "# implement RandomForest Classifier\n",
    "randomclassifier=RandomForestClassifier(n_estimators=200,criterion='entropy')\n",
    "randomclassifier.fit(X,train_df['Label'])\n"
   ]
  },
  {
   "cell_type": "code",
   "execution_count": 26,
   "id": "median-average",
   "metadata": {
    "scrolled": true
   },
   "outputs": [
    {
     "name": "stdout",
     "output_type": "stream",
     "text": [
      "378\n",
      "378\n"
     ]
    }
   ],
   "source": [
    "## Predict for the Test Dataset\n",
    "test_transform= []\n",
    "for i in range(0,len(x_test.index)):\n",
    "    test_transform.append(' '.join(str(a) for a in x_test.iloc[i,0:25]))\n",
    "\n",
    "\n",
    "print(len(test_transform))\n",
    "wordnet=PorterStemmer()\n",
    "review_test = [wordnet.stem(word) for word in test_transform if not word in set(stopwords.words('english'))]\n",
    "print(len(review_test))\n"
   ]
  },
  {
   "cell_type": "code",
   "execution_count": 27,
   "id": "suitable-absorption",
   "metadata": {},
   "outputs": [
    {
     "name": "stdout",
     "output_type": "stream",
     "text": [
      "(378, 46506)\n"
     ]
    }
   ],
   "source": [
    "from sklearn.feature_extraction.text import TfidfVectorizer\n",
    "X_test = cv.transform(review_test).toarray()\n",
    "print(X_test.shape)\n"
   ]
  },
  {
   "cell_type": "code",
   "execution_count": null,
   "id": "rapid-fisher",
   "metadata": {},
   "outputs": [],
   "source": [
    "X"
   ]
  },
  {
   "cell_type": "code",
   "execution_count": 28,
   "id": "collectible-perth",
   "metadata": {},
   "outputs": [],
   "source": [
    "predictions = randomclassifier.predict(X_test)"
   ]
  },
  {
   "cell_type": "code",
   "execution_count": 29,
   "id": "copyrighted-financing",
   "metadata": {},
   "outputs": [],
   "source": [
    "from sklearn.metrics import classification_report,confusion_matrix,accuracy_score"
   ]
  },
  {
   "cell_type": "code",
   "execution_count": 31,
   "id": "electrical-meeting",
   "metadata": {},
   "outputs": [
    {
     "name": "stdout",
     "output_type": "stream",
     "text": [
      "[[143  43]\n",
      " [ 17 175]]\n",
      "0.8412698412698413\n",
      "              precision    recall  f1-score   support\n",
      "\n",
      "           0       0.89      0.77      0.83       186\n",
      "           1       0.80      0.91      0.85       192\n",
      "\n",
      "    accuracy                           0.84       378\n",
      "   macro avg       0.85      0.84      0.84       378\n",
      "weighted avg       0.85      0.84      0.84       378\n",
      "\n"
     ]
    }
   ],
   "source": [
    "\n",
    "\n",
    "matrix=confusion_matrix(test_df['Label'],predictions)\n",
    "print(matrix)\n",
    "score=accuracy_score(test_df['Label'],predictions)\n",
    "print(score)\n",
    "report=classification_report(test_df['Label'],predictions)\n",
    "print(report)\n",
    "\n"
   ]
  }
 ],
 "metadata": {
  "kernelspec": {
   "display_name": "conda_tensorflow2_p36",
   "language": "python",
   "name": "conda_tensorflow2_p36"
  },
  "language_info": {
   "codemirror_mode": {
    "name": "ipython",
    "version": 3
   },
   "file_extension": ".py",
   "mimetype": "text/x-python",
   "name": "python",
   "nbconvert_exporter": "python",
   "pygments_lexer": "ipython3",
   "version": "3.6.10"
  }
 },
 "nbformat": 4,
 "nbformat_minor": 5
}
